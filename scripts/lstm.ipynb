{
 "cells": [
  {
   "cell_type": "code",
   "execution_count": 3,
   "id": "530b30e9-93df-4ea3-bf8e-c55b67cfcbe9",
   "metadata": {},
   "outputs": [],
   "source": [
    "from src import util\n",
    "import tensorflow as tf\n",
    "import numpy as np"
   ]
  },
  {
   "cell_type": "code",
   "execution_count": 4,
   "id": "421e2d25-6ca6-42b8-aaf0-4c0f44991d5f",
   "metadata": {},
   "outputs": [],
   "source": [
    "%load_ext autoreload\n",
    "%autoreload 2"
   ]
  },
  {
   "cell_type": "code",
   "execution_count": 5,
   "id": "3aa809a9-224d-4813-93ff-bd173eaac9b4",
   "metadata": {},
   "outputs": [
    {
     "name": "stdout",
     "output_type": "stream",
     "text": [
      "(25968, 60, 13) 25968\n",
      "(12218, 60, 13) 12218\n"
     ]
    }
   ],
   "source": [
    "sensor_data_trainval, sequence_ids_trainval, labels_trainval = util.ingest_sensor_data('train.csv', 'train_labels.csv')\n",
    "sensor_data_test, sequence_ids_test, _ = util.ingest_sensor_data('test.csv')\n",
    "\n",
    "sensor_data_train, sequence_ids_train, labels_train, sensor_data_val, sequence_ids_val, labels_val = util.validation_split(training_fraction=0.7, sensor_data=sensor_data_trainval, sequence_ids=sequence_ids_trainval, labels=labels_trainval)"
   ]
  },
  {
   "cell_type": "code",
   "execution_count": null,
   "id": "edbb746d-2255-402a-ad5f-62772dfea2ec",
   "metadata": {},
   "outputs": [
    {
     "name": "stdout",
     "output_type": "stream",
     "text": [
      "Epoch 1/50\n",
      "650/650 [==============================] - 58s 84ms/step - loss: 0.6849 - accuracy: 0.5492 - auc: 0.5673 - val_loss: 0.6815 - val_accuracy: 0.5512 - val_auc: 0.5961\n",
      "Epoch 2/50\n",
      "650/650 [==============================] - 69s 106ms/step - loss: 0.6778 - accuracy: 0.5714 - auc: 0.5987 - val_loss: 0.6730 - val_accuracy: 0.5884 - val_auc: 0.6154\n",
      "Epoch 3/50\n",
      "650/650 [==============================] - 71s 109ms/step - loss: 0.6708 - accuracy: 0.5882 - auc: 0.6208 - val_loss: 0.6677 - val_accuracy: 0.5884 - val_auc: 0.6589\n",
      "Epoch 4/50\n",
      "650/650 [==============================] - 73s 112ms/step - loss: 0.6311 - accuracy: 0.6493 - auc: 0.6974 - val_loss: 0.5744 - val_accuracy: 0.7023 - val_auc: 0.7721\n",
      "Epoch 5/50\n",
      "650/650 [==============================] - 73s 112ms/step - loss: 0.5876 - accuracy: 0.6937 - auc: 0.7537 - val_loss: 0.5449 - val_accuracy: 0.7443 - val_auc: 0.8107\n",
      "Epoch 6/50\n",
      "650/650 [==============================] - 70s 108ms/step - loss: 0.5530 - accuracy: 0.7198 - auc: 0.7904 - val_loss: 0.4995 - val_accuracy: 0.7618 - val_auc: 0.8414\n",
      "Epoch 7/50\n",
      "650/650 [==============================] - 70s 107ms/step - loss: 0.5189 - accuracy: 0.7441 - auc: 0.8203 - val_loss: 0.4717 - val_accuracy: 0.7695 - val_auc: 0.8595\n",
      "Epoch 8/50\n",
      "650/650 [==============================] - 70s 108ms/step - loss: 0.4844 - accuracy: 0.7699 - auc: 0.8473 - val_loss: 0.5032 - val_accuracy: 0.7503 - val_auc: 0.8775\n",
      "Epoch 9/50\n",
      "650/650 [==============================] - 71s 109ms/step - loss: 0.4627 - accuracy: 0.7788 - auc: 0.8623 - val_loss: 0.4321 - val_accuracy: 0.7907 - val_auc: 0.8923\n",
      "Epoch 10/50\n",
      "650/650 [==============================] - 72s 111ms/step - loss: 0.4375 - accuracy: 0.7935 - auc: 0.8781 - val_loss: 0.4012 - val_accuracy: 0.8107 - val_auc: 0.9022\n",
      "Epoch 11/50\n",
      "650/650 [==============================] - 71s 110ms/step - loss: 0.4211 - accuracy: 0.8066 - auc: 0.8881 - val_loss: 0.3687 - val_accuracy: 0.8371 - val_auc: 0.9154\n",
      "Epoch 12/50\n",
      "650/650 [==============================] - 72s 111ms/step - loss: 0.4103 - accuracy: 0.8134 - auc: 0.8939 - val_loss: 0.3811 - val_accuracy: 0.8294 - val_auc: 0.9187\n",
      "Epoch 13/50\n",
      "650/650 [==============================] - 71s 109ms/step - loss: 0.4062 - accuracy: 0.8136 - auc: 0.8962 - val_loss: 0.3644 - val_accuracy: 0.8331 - val_auc: 0.9214\n",
      "Epoch 14/50\n",
      "650/650 [==============================] - 71s 109ms/step - loss: 0.3877 - accuracy: 0.8236 - auc: 0.9061 - val_loss: 0.3416 - val_accuracy: 0.8467 - val_auc: 0.9281\n",
      "Epoch 15/50\n",
      "650/650 [==============================] - 71s 109ms/step - loss: 0.3785 - accuracy: 0.8296 - auc: 0.9105 - val_loss: 0.3747 - val_accuracy: 0.8348 - val_auc: 0.9221\n",
      "Epoch 16/50\n",
      "650/650 [==============================] - 71s 109ms/step - loss: 0.3731 - accuracy: 0.8359 - auc: 0.9135 - val_loss: 0.3511 - val_accuracy: 0.8425 - val_auc: 0.9309\n",
      "Epoch 17/50\n",
      "650/650 [==============================] - 71s 109ms/step - loss: 0.3631 - accuracy: 0.8384 - auc: 0.9181 - val_loss: 0.3703 - val_accuracy: 0.8277 - val_auc: 0.9258\n",
      "Epoch 18/50\n",
      "650/650 [==============================] - 71s 109ms/step - loss: 0.3594 - accuracy: 0.8421 - auc: 0.9200 - val_loss: 0.3621 - val_accuracy: 0.8373 - val_auc: 0.9301\n",
      "Epoch 19/50\n",
      "650/650 [==============================] - 71s 109ms/step - loss: 0.3460 - accuracy: 0.8474 - auc: 0.9262 - val_loss: 0.3813 - val_accuracy: 0.8408 - val_auc: 0.9313\n",
      "Epoch 20/50\n",
      "650/650 [==============================] - 71s 109ms/step - loss: 0.3420 - accuracy: 0.8520 - auc: 0.9279 - val_loss: 0.3181 - val_accuracy: 0.8548 - val_auc: 0.9391\n",
      "Epoch 21/50\n",
      "650/650 [==============================] - 70s 108ms/step - loss: 0.3382 - accuracy: 0.8496 - auc: 0.9295 - val_loss: 0.3303 - val_accuracy: 0.8558 - val_auc: 0.9354\n",
      "Epoch 22/50\n",
      "650/650 [==============================] - 70s 108ms/step - loss: 0.3274 - accuracy: 0.8564 - auc: 0.9340 - val_loss: 0.3275 - val_accuracy: 0.8535 - val_auc: 0.9378\n",
      "Epoch 23/50\n",
      "650/650 [==============================] - 70s 108ms/step - loss: 0.3215 - accuracy: 0.8576 - auc: 0.9364 - val_loss: 0.3286 - val_accuracy: 0.8581 - val_auc: 0.9390\n",
      "Epoch 24/50\n",
      "650/650 [==============================] - 70s 108ms/step - loss: 0.3178 - accuracy: 0.8646 - auc: 0.9381 - val_loss: 0.3242 - val_accuracy: 0.8558 - val_auc: 0.9382\n",
      "Epoch 25/50\n",
      "650/650 [==============================] - 70s 107ms/step - loss: 0.3104 - accuracy: 0.8666 - auc: 0.9410 - val_loss: 0.3425 - val_accuracy: 0.8516 - val_auc: 0.9331\n",
      "Epoch 26/50\n",
      "650/650 [==============================] - 70s 107ms/step - loss: 0.3049 - accuracy: 0.8699 - auc: 0.9431 - val_loss: 0.3482 - val_accuracy: 0.8556 - val_auc: 0.9360\n",
      "Epoch 27/50\n",
      "650/650 [==============================] - 70s 107ms/step - loss: 0.2930 - accuracy: 0.8754 - auc: 0.9475 - val_loss: 0.3558 - val_accuracy: 0.8494 - val_auc: 0.9384\n",
      "Epoch 28/50\n",
      "650/650 [==============================] - 70s 107ms/step - loss: 0.2903 - accuracy: 0.8754 - auc: 0.9483 - val_loss: 0.3783 - val_accuracy: 0.8431 - val_auc: 0.9364\n",
      "Epoch 29/50\n",
      "650/650 [==============================] - 70s 108ms/step - loss: 0.2852 - accuracy: 0.8786 - auc: 0.9504 - val_loss: 0.3520 - val_accuracy: 0.8556 - val_auc: 0.9374\n",
      "Epoch 30/50\n",
      "650/650 [==============================] - 70s 107ms/step - loss: 0.2823 - accuracy: 0.8812 - auc: 0.9513 - val_loss: 0.3209 - val_accuracy: 0.8577 - val_auc: 0.9415\n",
      "Epoch 31/50\n",
      "650/650 [==============================] - 70s 107ms/step - loss: 0.2736 - accuracy: 0.8818 - auc: 0.9543 - val_loss: 0.3248 - val_accuracy: 0.8579 - val_auc: 0.9385\n",
      "Epoch 32/50\n",
      "650/650 [==============================] - 70s 107ms/step - loss: 0.2642 - accuracy: 0.8878 - auc: 0.9573 - val_loss: 0.3286 - val_accuracy: 0.8625 - val_auc: 0.9418\n",
      "Epoch 33/50\n",
      "650/650 [==============================] - 69s 107ms/step - loss: 0.2649 - accuracy: 0.8870 - auc: 0.9571 - val_loss: 0.3671 - val_accuracy: 0.8598 - val_auc: 0.9382\n",
      "Epoch 34/50\n",
      "650/650 [==============================] - 70s 107ms/step - loss: 0.2600 - accuracy: 0.8896 - auc: 0.9588 - val_loss: 0.3507 - val_accuracy: 0.8579 - val_auc: 0.9381\n",
      "Epoch 35/50\n",
      "650/650 [==============================] - 70s 107ms/step - loss: 0.2522 - accuracy: 0.8955 - auc: 0.9612 - val_loss: 0.3412 - val_accuracy: 0.8635 - val_auc: 0.9397\n",
      "Epoch 36/50\n",
      "650/650 [==============================] - 70s 107ms/step - loss: 0.2505 - accuracy: 0.8946 - auc: 0.9617 - val_loss: 0.3403 - val_accuracy: 0.8602 - val_auc: 0.9405\n",
      "Epoch 37/50\n",
      "650/650 [==============================] - 70s 107ms/step - loss: 0.2423 - accuracy: 0.8979 - auc: 0.9642 - val_loss: 0.3857 - val_accuracy: 0.8541 - val_auc: 0.9383\n",
      "Epoch 38/50\n",
      "650/650 [==============================] - 4224s 7s/step - loss: 0.2408 - accuracy: 0.8979 - auc: 0.9646 - val_loss: 0.3347 - val_accuracy: 0.8600 - val_auc: 0.9413\n",
      "Epoch 39/50\n",
      "650/650 [==============================] - 64s 99ms/step - loss: 0.2321 - accuracy: 0.9039 - auc: 0.9672 - val_loss: 0.5092 - val_accuracy: 0.8400 - val_auc: 0.9314\n",
      "Epoch 40/50\n",
      "650/650 [==============================] - 66s 102ms/step - loss: 0.2282 - accuracy: 0.9056 - auc: 0.9682 - val_loss: 0.3401 - val_accuracy: 0.8666 - val_auc: 0.9407\n",
      "Epoch 41/50\n",
      "650/650 [==============================] - 68s 104ms/step - loss: 0.2248 - accuracy: 0.9060 - auc: 0.9691 - val_loss: 0.3833 - val_accuracy: 0.8621 - val_auc: 0.9405\n",
      "Epoch 42/50\n",
      "650/650 [==============================] - 68s 104ms/step - loss: 0.2159 - accuracy: 0.9094 - auc: 0.9714 - val_loss: 0.3514 - val_accuracy: 0.8589 - val_auc: 0.9369\n",
      "Epoch 43/50\n",
      "650/650 [==============================] - 70s 108ms/step - loss: 0.2113 - accuracy: 0.9126 - auc: 0.9727 - val_loss: 0.3546 - val_accuracy: 0.8645 - val_auc: 0.9410\n",
      "Epoch 44/50\n",
      "650/650 [==============================] - 70s 108ms/step - loss: 0.2125 - accuracy: 0.9125 - auc: 0.9724 - val_loss: 0.3711 - val_accuracy: 0.8598 - val_auc: 0.9397\n",
      "Epoch 45/50\n",
      "650/650 [==============================] - 70s 107ms/step - loss: 0.2064 - accuracy: 0.9139 - auc: 0.9740 - val_loss: 0.3607 - val_accuracy: 0.8660 - val_auc: 0.9415\n",
      "Epoch 46/50\n",
      "650/650 [==============================] - 69s 107ms/step - loss: 0.2057 - accuracy: 0.9131 - auc: 0.9741 - val_loss: 0.3681 - val_accuracy: 0.8627 - val_auc: 0.9401\n",
      "Epoch 47/50\n",
      "650/650 [==============================] - 69s 107ms/step - loss: 0.2031 - accuracy: 0.9158 - auc: 0.9748 - val_loss: 0.3643 - val_accuracy: 0.8573 - val_auc: 0.9389\n",
      "Epoch 48/50\n",
      "650/650 [==============================] - 70s 107ms/step - loss: 0.1967 - accuracy: 0.9202 - auc: 0.9763 - val_loss: 0.3712 - val_accuracy: 0.8606 - val_auc: 0.9397\n",
      "Epoch 49/50\n",
      "650/650 [==============================] - 69s 107ms/step - loss: 0.1882 - accuracy: 0.9239 - auc: 0.9783 - val_loss: 0.3968 - val_accuracy: 0.8564 - val_auc: 0.9344\n",
      "Epoch 50/50\n",
      "612/650 [===========================>..] - ETA: 3s - loss: 0.1873 - accuracy: 0.9241 - auc: 0.9785"
     ]
    }
   ],
   "source": [
    "lstm_dim = 128\n",
    "dense_dim=128\n",
    "lstm_dropout=0.15\n",
    "\n",
    "model = tf.keras.Sequential([\n",
    "    tf.keras.layers.Bidirectional(tf.keras.layers.LSTM(units=lstm_dim, input_shape=(60,13), dropout=lstm_dropout, recurrent_dropout=lstm_dropout)),\n",
    "    tf.keras.layers.Dense(dense_dim, activation='relu'),\n",
    "    tf.keras.layers.Dropout(0.4),\n",
    "    #tf.keras.layers.Dense(10, activation='relu'),\n",
    "    #tf.keras.layers.Dropout(0.4),\n",
    "    \n",
    "    tf.keras.layers.Dense(1, activation='sigmoid')\n",
    "])\n",
    "\n",
    "model.compile(optimizer='adam', loss='binary_crossentropy', metrics=['accuracy',tf.keras.metrics.AUC(name='auc')])\n",
    "\n",
    "\n",
    "model.fit(util.preprocess_sensor_data(sensor_data_trainval), np.array(labels_trainval), validation_split=0.2, epochs=50)\n",
    "pred = model.predict(util.preprocess_sensor_data(sensor_data_test))\n",
    "util.generate_submission(pred, sequence_ids_test, 'lstm-bidirectional')"
   ]
  },
  {
   "cell_type": "code",
   "execution_count": 9,
   "id": "cd2d63ff-fd32-443f-8644-60262cca7a96",
   "metadata": {},
   "outputs": [],
   "source": [
    "util.generate_submission(pred, sequence_ids_test, 'lstm')"
   ]
  },
  {
   "cell_type": "code",
   "execution_count": null,
   "id": "21e0d710-f38f-47a7-975e-b943c8718901",
   "metadata": {},
   "outputs": [],
   "source": []
  }
 ],
 "metadata": {
  "kernelspec": {
   "display_name": "tps-env",
   "language": "python",
   "name": "tps-env"
  },
  "language_info": {
   "codemirror_mode": {
    "name": "ipython",
    "version": 3
   },
   "file_extension": ".py",
   "mimetype": "text/x-python",
   "name": "python",
   "nbconvert_exporter": "python",
   "pygments_lexer": "ipython3",
   "version": "3.10.4"
  }
 },
 "nbformat": 4,
 "nbformat_minor": 5
}
