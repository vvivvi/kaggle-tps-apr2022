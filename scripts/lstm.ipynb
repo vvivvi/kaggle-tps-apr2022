{
 "cells": [
  {
   "cell_type": "markdown",
   "id": "044566ba-fb03-4754-9662-b4238ea26426",
   "metadata": {},
   "source": [
    "# Experiments on the effect of learning parameters and mechanisms:\n",
    "- learning rate\n",
    "- batch size\n",
    "- use of callbacks"
   ]
  },
  {
   "cell_type": "code",
   "execution_count": 7,
   "id": "530b30e9-93df-4ea3-bf8e-c55b67cfcbe9",
   "metadata": {},
   "outputs": [],
   "source": [
    "from src import util\n",
    "import tensorflow as tf\n",
    "import numpy as np\n",
    "import matplotlib.pyplot as plt\n"
   ]
  },
  {
   "cell_type": "code",
   "execution_count": 2,
   "id": "421e2d25-6ca6-42b8-aaf0-4c0f44991d5f",
   "metadata": {},
   "outputs": [],
   "source": [
    "%load_ext autoreload\n",
    "%autoreload 2"
   ]
  },
  {
   "cell_type": "code",
   "execution_count": 3,
   "id": "3aa809a9-224d-4813-93ff-bd173eaac9b4",
   "metadata": {},
   "outputs": [
    {
     "name": "stdout",
     "output_type": "stream",
     "text": [
      "(25968, 60, 13) 25968\n",
      "(12218, 60, 13) 12218\n"
     ]
    }
   ],
   "source": [
    "sensor_data_trainval, sequence_ids_trainval, labels_trainval = util.ingest_sensor_data('train.csv', 'train_labels.csv')\n",
    "sensor_data_test, sequence_ids_test, _ = util.ingest_sensor_data('test.csv')\n",
    "\n",
    "sensor_data_train, sequence_ids_train, labels_train, sensor_data_val, sequence_ids_val, labels_val = util.validation_split(training_fraction=0.7, sensor_data=sensor_data_trainval, sequence_ids=sequence_ids_trainval, labels=labels_trainval)"
   ]
  },
  {
   "cell_type": "code",
   "execution_count": 10,
   "id": "edbb746d-2255-402a-ad5f-62772dfea2ec",
   "metadata": {},
   "outputs": [
    {
     "name": "stdout",
     "output_type": "stream",
     "text": [
      "Epoch 1/50\n",
      "650/650 [==============================] - 14s 18ms/step - loss: 0.6869 - accuracy: 0.5414 - auc: 0.5542 - val_loss: 0.6842 - val_accuracy: 0.5458 - val_auc: 0.5687 - lr: 1.0000e-04\n",
      "Epoch 2/50\n",
      "650/650 [==============================] - 11s 17ms/step - loss: 0.6841 - accuracy: 0.5510 - auc: 0.5699 - val_loss: 0.6834 - val_accuracy: 0.5551 - val_auc: 0.5872 - lr: 1.2589e-04\n",
      "Epoch 3/50\n",
      "650/650 [==============================] - 11s 17ms/step - loss: 0.6790 - accuracy: 0.5649 - auc: 0.5918 - val_loss: 0.6728 - val_accuracy: 0.5780 - val_auc: 0.6173 - lr: 1.5849e-04\n",
      "Epoch 4/50\n",
      "650/650 [==============================] - 10s 15ms/step - loss: 0.6721 - accuracy: 0.5838 - auc: 0.6147 - val_loss: 0.6678 - val_accuracy: 0.5891 - val_auc: 0.6299 - lr: 1.9953e-04\n",
      "Epoch 5/50\n",
      "650/650 [==============================] - 10s 16ms/step - loss: 0.6690 - accuracy: 0.5897 - auc: 0.6241 - val_loss: 0.6721 - val_accuracy: 0.5716 - val_auc: 0.6343 - lr: 2.5119e-04\n",
      "Epoch 6/50\n",
      "650/650 [==============================] - 11s 17ms/step - loss: 0.6638 - accuracy: 0.5934 - auc: 0.6343 - val_loss: 0.6688 - val_accuracy: 0.5857 - val_auc: 0.6504 - lr: 3.1623e-04\n",
      "Epoch 7/50\n",
      "650/650 [==============================] - 11s 17ms/step - loss: 0.6570 - accuracy: 0.6088 - auc: 0.6473 - val_loss: 0.6493 - val_accuracy: 0.6273 - val_auc: 0.6862 - lr: 3.9811e-04\n",
      "Epoch 8/50\n",
      "650/650 [==============================] - 11s 17ms/step - loss: 0.6413 - accuracy: 0.6337 - auc: 0.6765 - val_loss: 0.7004 - val_accuracy: 0.6151 - val_auc: 0.7051 - lr: 5.0119e-04\n",
      "Epoch 9/50\n",
      "650/650 [==============================] - 12s 18ms/step - loss: 0.6291 - accuracy: 0.6503 - auc: 0.6977 - val_loss: 0.6097 - val_accuracy: 0.6692 - val_auc: 0.7211 - lr: 6.3096e-04\n",
      "Epoch 10/50\n",
      "650/650 [==============================] - 12s 18ms/step - loss: 0.6123 - accuracy: 0.6657 - auc: 0.7196 - val_loss: 0.5689 - val_accuracy: 0.7079 - val_auc: 0.7885 - lr: 7.9433e-04\n",
      "Epoch 11/50\n",
      "650/650 [==============================] - 12s 18ms/step - loss: 0.5682 - accuracy: 0.7078 - auc: 0.7750 - val_loss: 0.5388 - val_accuracy: 0.7324 - val_auc: 0.8169 - lr: 0.0010\n",
      "Epoch 12/50\n",
      "650/650 [==============================] - 12s 18ms/step - loss: 0.5349 - accuracy: 0.7318 - auc: 0.8066 - val_loss: 0.5885 - val_accuracy: 0.7074 - val_auc: 0.8342 - lr: 0.0013\n",
      "Epoch 13/50\n",
      "650/650 [==============================] - 12s 18ms/step - loss: 0.4959 - accuracy: 0.7600 - auc: 0.8390 - val_loss: 0.4715 - val_accuracy: 0.7636 - val_auc: 0.8756 - lr: 0.0016\n",
      "Epoch 14/50\n",
      "650/650 [==============================] - 12s 18ms/step - loss: 0.4597 - accuracy: 0.7831 - auc: 0.8642 - val_loss: 0.3893 - val_accuracy: 0.8242 - val_auc: 0.9054 - lr: 0.0020\n",
      "Epoch 15/50\n",
      "650/650 [==============================] - 11s 16ms/step - loss: 0.4513 - accuracy: 0.7889 - auc: 0.8701 - val_loss: 0.4469 - val_accuracy: 0.7930 - val_auc: 0.9017 - lr: 0.0025\n",
      "Epoch 16/50\n",
      "650/650 [==============================] - 11s 17ms/step - loss: 0.4293 - accuracy: 0.8031 - auc: 0.8840 - val_loss: 0.3821 - val_accuracy: 0.8296 - val_auc: 0.9115 - lr: 0.0032\n",
      "Epoch 17/50\n",
      "650/650 [==============================] - 12s 18ms/step - loss: 0.4217 - accuracy: 0.8077 - auc: 0.8880 - val_loss: 0.3981 - val_accuracy: 0.8181 - val_auc: 0.9114 - lr: 0.0040\n",
      "Epoch 18/50\n",
      "650/650 [==============================] - 11s 17ms/step - loss: 0.4232 - accuracy: 0.8104 - auc: 0.8876 - val_loss: 0.3757 - val_accuracy: 0.8321 - val_auc: 0.9129 - lr: 0.0050\n",
      "Epoch 19/50\n",
      "650/650 [==============================] - 11s 17ms/step - loss: 0.4115 - accuracy: 0.8154 - auc: 0.8938 - val_loss: 0.3643 - val_accuracy: 0.8377 - val_auc: 0.9177 - lr: 0.0063\n",
      "Epoch 20/50\n",
      "650/650 [==============================] - 14s 21ms/step - loss: 0.4086 - accuracy: 0.8147 - auc: 0.8956 - val_loss: 0.3986 - val_accuracy: 0.8102 - val_auc: 0.9142 - lr: 0.0079\n",
      "Epoch 21/50\n",
      "650/650 [==============================] - 13s 20ms/step - loss: 0.4168 - accuracy: 0.8123 - auc: 0.8925 - val_loss: 0.3753 - val_accuracy: 0.8371 - val_auc: 0.9192 - lr: 0.0100\n",
      "Epoch 22/50\n",
      "650/650 [==============================] - 15s 22ms/step - loss: 0.4189 - accuracy: 0.8123 - auc: 0.8913 - val_loss: 0.3999 - val_accuracy: 0.8204 - val_auc: 0.9090 - lr: 0.0126\n",
      "Epoch 23/50\n",
      "650/650 [==============================] - 15s 23ms/step - loss: 0.4274 - accuracy: 0.8087 - auc: 0.8867 - val_loss: 0.3799 - val_accuracy: 0.8292 - val_auc: 0.9155 - lr: 0.0158\n",
      "Epoch 24/50\n",
      "650/650 [==============================] - 16s 24ms/step - loss: 0.4412 - accuracy: 0.8006 - auc: 0.8799 - val_loss: 0.4176 - val_accuracy: 0.8061 - val_auc: 0.9127 - lr: 0.0200\n",
      "Epoch 25/50\n",
      "650/650 [==============================] - 11s 17ms/step - loss: 0.4637 - accuracy: 0.7880 - auc: 0.8659 - val_loss: 0.4610 - val_accuracy: 0.7855 - val_auc: 0.8697 - lr: 0.0251\n",
      "Epoch 26/50\n",
      "650/650 [==============================] - 11s 17ms/step - loss: 0.5403 - accuracy: 0.7171 - auc: 0.8049 - val_loss: 0.6931 - val_accuracy: 0.5037 - val_auc: 0.5004 - lr: 0.0316\n",
      "Epoch 27/50\n",
      "650/650 [==============================] - 11s 17ms/step - loss: 0.6940 - accuracy: 0.5029 - auc: 0.5019 - val_loss: 0.6955 - val_accuracy: 0.4965 - val_auc: 0.5000 - lr: 0.0398\n",
      "Epoch 28/50\n",
      "650/650 [==============================] - 11s 17ms/step - loss: 0.6945 - accuracy: 0.4987 - auc: 0.4995 - val_loss: 0.6933 - val_accuracy: 0.5035 - val_auc: 0.5000 - lr: 0.0501\n",
      "Epoch 29/50\n",
      "650/650 [==============================] - 11s 17ms/step - loss: 0.6949 - accuracy: 0.4961 - auc: 0.4957 - val_loss: 0.6932 - val_accuracy: 0.4965 - val_auc: 0.5000 - lr: 0.0631\n",
      "Epoch 30/50\n",
      "650/650 [==============================] - 11s 17ms/step - loss: 0.6953 - accuracy: 0.4960 - auc: 0.4924 - val_loss: 0.6932 - val_accuracy: 0.5035 - val_auc: 0.5000 - lr: 0.0794\n",
      "Epoch 31/50\n",
      "650/650 [==============================] - 11s 17ms/step - loss: 0.6958 - accuracy: 0.4918 - auc: 0.4897 - val_loss: 0.6931 - val_accuracy: 0.5035 - val_auc: 0.5002 - lr: 0.1000\n",
      "Epoch 32/50\n",
      "650/650 [==============================] - 11s 17ms/step - loss: 0.6953 - accuracy: 0.4994 - auc: 0.5001 - val_loss: 0.6991 - val_accuracy: 0.5035 - val_auc: 0.5002 - lr: 0.1259\n",
      "Epoch 33/50\n",
      "650/650 [==============================] - 11s 16ms/step - loss: 0.6976 - accuracy: 0.4980 - auc: 0.4988 - val_loss: 0.6970 - val_accuracy: 0.5035 - val_auc: 0.5000 - lr: 0.1585\n",
      "Epoch 34/50\n",
      "650/650 [==============================] - 11s 17ms/step - loss: 0.6967 - accuracy: 0.4966 - auc: 0.4985 - val_loss: 0.6983 - val_accuracy: 0.5035 - val_auc: 0.5002 - lr: 0.1995\n",
      "Epoch 35/50\n",
      "650/650 [==============================] - 11s 17ms/step - loss: 0.7002 - accuracy: 0.4921 - auc: 0.4913 - val_loss: 0.6945 - val_accuracy: 0.4965 - val_auc: 0.5002 - lr: 0.2512\n",
      "Epoch 36/50\n",
      "650/650 [==============================] - 11s 17ms/step - loss: 0.6982 - accuracy: 0.4932 - auc: 0.4881 - val_loss: 0.7031 - val_accuracy: 0.4965 - val_auc: 0.5002 - lr: 0.3162\n",
      "Epoch 37/50\n",
      "650/650 [==============================] - 12s 18ms/step - loss: 0.8946 - accuracy: 0.4991 - auc: 0.4966 - val_loss: 0.6967 - val_accuracy: 0.4965 - val_auc: 0.5000 - lr: 0.3981\n",
      "Epoch 38/50\n",
      "650/650 [==============================] - 11s 17ms/step - loss: 0.7020 - accuracy: 0.5000 - auc: 0.5024 - val_loss: 0.6976 - val_accuracy: 0.4965 - val_auc: 0.5000 - lr: 0.5012\n",
      "Epoch 39/50\n",
      "650/650 [==============================] - 11s 17ms/step - loss: 0.7022 - accuracy: 0.5025 - auc: 0.5043 - val_loss: 0.7169 - val_accuracy: 0.4965 - val_auc: 0.5000 - lr: 0.6310\n",
      "Epoch 40/50\n",
      "650/650 [==============================] - 11s 17ms/step - loss: 0.7109 - accuracy: 0.5005 - auc: 0.4998 - val_loss: 0.6951 - val_accuracy: 0.4965 - val_auc: 0.5000 - lr: 0.7943\n",
      "Epoch 41/50\n",
      "650/650 [==============================] - 12s 19ms/step - loss: 0.7124 - accuracy: 0.4981 - auc: 0.4957 - val_loss: 0.7058 - val_accuracy: 0.4965 - val_auc: 0.5000 - lr: 1.0000\n",
      "Epoch 42/50\n",
      "650/650 [==============================] - 9s 14ms/step - loss: 0.7151 - accuracy: 0.5005 - auc: 0.4980 - val_loss: 0.6933 - val_accuracy: 0.4965 - val_auc: 0.5000 - lr: 1.2589\n",
      "Epoch 43/50\n",
      "650/650 [==============================] - 9s 14ms/step - loss: 0.7129 - accuracy: 0.4987 - auc: 0.4959 - val_loss: 0.6936 - val_accuracy: 0.4965 - val_auc: 0.5000 - lr: 1.5849\n",
      "Epoch 44/50\n",
      "650/650 [==============================] - 9s 14ms/step - loss: 0.7252 - accuracy: 0.4981 - auc: 0.4983 - val_loss: 0.7012 - val_accuracy: 0.4965 - val_auc: 0.5000 - lr: 1.9953\n",
      "Epoch 45/50\n",
      "650/650 [==============================] - 9s 14ms/step - loss: 0.7335 - accuracy: 0.4984 - auc: 0.5009 - val_loss: 0.7075 - val_accuracy: 0.4965 - val_auc: 0.5000 - lr: 2.5119\n",
      "Epoch 46/50\n",
      "650/650 [==============================] - 9s 14ms/step - loss: 0.7324 - accuracy: 0.5042 - auc: 0.5066 - val_loss: 0.7215 - val_accuracy: 0.4965 - val_auc: 0.5000 - lr: 3.1623\n",
      "Epoch 47/50\n",
      "650/650 [==============================] - 9s 14ms/step - loss: 0.7439 - accuracy: 0.5018 - auc: 0.5002 - val_loss: 0.8463 - val_accuracy: 0.4965 - val_auc: 0.5000 - lr: 3.9811\n",
      "Epoch 48/50\n",
      "650/650 [==============================] - 9s 14ms/step - loss: 0.7455 - accuracy: 0.4962 - auc: 0.4941 - val_loss: 0.8674 - val_accuracy: 0.4965 - val_auc: 0.5000 - lr: 5.0119\n",
      "Epoch 49/50\n",
      "650/650 [==============================] - 9s 14ms/step - loss: 0.7784 - accuracy: 0.5100 - auc: 0.5083 - val_loss: 0.7262 - val_accuracy: 0.4965 - val_auc: 0.5000 - lr: 6.3096\n",
      "Epoch 50/50\n",
      "650/650 [==============================] - 9s 14ms/step - loss: 0.8060 - accuracy: 0.5047 - auc: 0.5036 - val_loss: 0.9878 - val_accuracy: 0.5035 - val_auc: 0.5000 - lr: 7.9433\n"
     ]
    },
    {
     "data": {
      "image/png": "[encoded data removed]",
      "text/plain": [
       "<Figure size 432x288 with 1 Axes>"
      ]
     },
     "metadata": {
      "needs_background": "light"
     },
     "output_type": "display_data"
    }
   ],
   "source": [
    "lstm_dim = 128\n",
    "dense_dim=128\n",
    "lstm_dropout=0.15\n",
    "\n",
    "model = tf.keras.Sequential([\n",
    "    tf.keras.layers.Bidirectional(tf.keras.layers.LSTM(units=lstm_dim, input_shape=(60,13), dropout=lstm_dropout)),\n",
    "    tf.keras.layers.Dense(dense_dim, activation='relu'),\n",
    "    tf.keras.layers.Dropout(0.4),\n",
    "    #tf.keras.layers.Dense(10, activation='relu'),\n",
    "    #tf.keras.layers.Dropout(0.4),\n",
    "    \n",
    "    tf.keras.layers.Dense(1, activation='sigmoid')\n",
    "])\n",
    "\n",
    "lr_schedule = tf.keras.callbacks.LearningRateScheduler(\n",
    "    lambda epoch: 1e-4 * 10**(epoch / 10))\n",
    "optimizer = tf.keras.optimizers.Adam(learning_rate=1e-4)\n",
    "model.compile(optimizer=optimizer, loss='binary_crossentropy', metrics=['accuracy',tf.keras.metrics.AUC(name='auc')])\n",
    "\n",
    "\n",
    "history=model.fit(util.preprocess_sensor_data(sensor_data_trainval), np.array(labels_trainval), validation_split=0.2, epochs=50, callbacks=[lr_schedule])\n",
    "\n",
    "plt.semilogx(history.history[\"lr\"], history.history[\"loss\"])\n",
    "#plt.axis([1e-8, 1e-4, 0, 30])\n",
    "plt.show()"
   ]
  },
  {
   "cell_type": "code",
   "execution_count": null,
   "id": "d85ecb91-3023-4231-ba1e-612be4cbc62e",
   "metadata": {},
   "outputs": [],
   "source": []
  }
 ],
 "metadata": {
  "kernelspec": {
   "display_name": "tps-env",
   "language": "python",
   "name": "tps-env"
  },
  "language_info": {
   "codemirror_mode": {
    "name": "ipython",
    "version": 3
   },
   "file_extension": ".py",
   "mimetype": "text/x-python",
   "name": "python",
   "nbconvert_exporter": "python",
   "pygments_lexer": "ipython3",
   "version": "3.10.4"
  }
 },
 "nbformat": 4,
 "nbformat_minor": 5
}
