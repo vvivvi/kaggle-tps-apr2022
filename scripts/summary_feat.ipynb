{
 "cells": [
  {
   "cell_type": "code",
   "execution_count": 1,
   "id": "530b30e9-93df-4ea3-bf8e-c55b67cfcbe9",
   "metadata": {},
   "outputs": [],
   "source": [
    "from src import util"
   ]
  },
  {
   "cell_type": "code",
   "execution_count": 4,
   "id": "3aa809a9-224d-4813-93ff-bd173eaac9b4",
   "metadata": {},
   "outputs": [
    {
     "name": "stdout",
     "output_type": "stream",
     "text": [
      "(25968, 13, 60) 25968\n",
      "(12218, 13, 60) 12218\n"
     ]
    }
   ],
   "source": [
    "sensor_data_train, sequence_ids_train, labels_train = util.ingest_sensor_data('train.csv', 'train_labels.csv')\n",
    "sensor_data_test, sequence_ids_test, _ = util.ingest_sensor_data('test.csv')"
   ]
  },
  {
   "cell_type": "code",
   "execution_count": null,
   "id": "fbe3ca86-f9c3-4d7f-858e-8245ae41e19a",
   "metadata": {},
   "outputs": [],
   "source": []
  }
 ],
 "metadata": {
  "kernelspec": {
   "display_name": "kaggle-tps-apr2022-env",
   "language": "python",
   "name": "kaggle-tps-apr2022-env"
  },
  "language_info": {
   "codemirror_mode": {
    "name": "ipython",
    "version": 3
   },
   "file_extension": ".py",
   "mimetype": "text/x-python",
   "name": "python",
   "nbconvert_exporter": "python",
   "pygments_lexer": "ipython3",
   "version": "3.10.4"
  }
 },
 "nbformat": 4,
 "nbformat_minor": 5
}
