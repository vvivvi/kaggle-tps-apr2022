{
 "cells": [
  {
   "cell_type": "code",
   "execution_count": 3,
   "id": "f042cf10-9918-48b6-ad07-750974d3747e",
   "metadata": {},
   "outputs": [
    {
     "name": "stdout",
     "output_type": "stream",
     "text": [
      "README.md\n",
      "sample_submission.csv\n",
      "test.csv\n",
      "train.csv\n",
      "train_labels.csv\n"
     ]
    }
   ],
   "source": [
    "!ls ../data"
   ]
  },
  {
   "cell_type": "code",
   "execution_count": 2,
   "id": "2f49e65e-c4db-4e24-98d1-41e912c3ef0e",
   "metadata": {},
   "outputs": [],
   "source": [
    "DATADIR = \"../data\""
   ]
  },
  {
   "cell_type": "code",
   "execution_count": null,
   "id": "0cb77d64-0968-4292-b4f9-27b751644482",
   "metadata": {},
   "outputs": [],
   "source": [
    "CSV_NAME = "
   ]
  }
 ],
 "metadata": {
  "kernelspec": {
   "display_name": "Python 3 (ipykernel)",
   "language": "python",
   "name": "python3"
  },
  "language_info": {
   "codemirror_mode": {
    "name": "ipython",
    "version": 3
   },
   "file_extension": ".py",
   "mimetype": "text/x-python",
   "name": "python",
   "nbconvert_exporter": "python",
   "pygments_lexer": "ipython3",
   "version": "3.10.4"
  }
 },
 "nbformat": 4,
 "nbformat_minor": 5
}
