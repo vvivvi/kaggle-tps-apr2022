{
 "cells": [
  {
   "cell_type": "code",
   "execution_count": 1,
   "id": "530b30e9-93df-4ea3-bf8e-c55b67cfcbe9",
   "metadata": {},
   "outputs": [],
   "source": [
    "from src import util\n",
    "import tensorflow as tf\n",
    "import numpy as np"
   ]
  },
  {
   "cell_type": "code",
   "execution_count": 2,
   "id": "421e2d25-6ca6-42b8-aaf0-4c0f44991d5f",
   "metadata": {},
   "outputs": [],
   "source": [
    "%load_ext autoreload\n",
    "%autoreload 2"
   ]
  },
  {
   "cell_type": "code",
   "execution_count": 3,
   "id": "3aa809a9-224d-4813-93ff-bd173eaac9b4",
   "metadata": {},
   "outputs": [
    {
     "name": "stdout",
     "output_type": "stream",
     "text": [
      "(25968, 13, 60) 25968\n",
      "(12218, 13, 60) 12218\n"
     ]
    }
   ],
   "source": [
    "sensor_data_trainval, sequence_ids_trainval, labels_trainval = util.ingest_sensor_data('train.csv', 'train_labels.csv')\n",
    "sensor_data_test, sequence_ids_test, _ = util.ingest_sensor_data('test.csv')\n",
    "\n",
    "sensor_data_train, sequence_ids_train, labels_train, sensor_data_val, sequence_ids_val, labels_val = util.validation_split(training_fraction=0.7, sensor_data=sensor_data_trainval, sequence_ids=sequence_ids_trainval, labels=labels_trainval)"
   ]
  },
  {
   "cell_type": "code",
   "execution_count": 4,
   "id": "fbe3ca86-f9c3-4d7f-858e-8245ae41e19a",
   "metadata": {},
   "outputs": [],
   "source": [
    "n_train=sensor_data_train.shape[0]\n",
    "n_val=sensor_data_val.shape[0]\n",
    "n_trainval=sensor_data_trainval.shape[0]\n",
    "n_test=sensor_data_test.shape[0]\n",
    "x_raw_train = util.preprocess_sensor_data(sensor_data_train.reshape((n_train,-1)))\n",
    "x_raw_val = util.preprocess_sensor_data(sensor_data_val.reshape((n_val,-1)))\n",
    "x_raw_trainval = util.preprocess_sensor_data(sensor_data_trainval.reshape((n_trainval,-1)))\n",
    "x_raw_test = util.preprocess_sensor_data(sensor_data_test.reshape((n_test,-1)))\n",
    "\n"
   ]
  },
  {
   "cell_type": "code",
   "execution_count": 5,
   "id": "f8cb64e6-52d7-4443-8b66-b8aa3e970eb8",
   "metadata": {},
   "outputs": [
    {
     "data": {
      "text/plain": [
       "(18177, 780)"
      ]
     },
     "execution_count": 5,
     "metadata": {},
     "output_type": "execute_result"
    }
   ],
   "source": [
    "x_raw_train.shape"
   ]
  },
  {
   "cell_type": "code",
   "execution_count": null,
   "id": "a4aff174-23b2-4e45-b3aa-385bc53d8ea9",
   "metadata": {},
   "outputs": [],
   "source": [
    "tf.__version__\n"
   ]
  },
  {
   "cell_type": "code",
   "execution_count": null,
   "id": "f02e7c9f-8da3-47e1-b553-4ff91a9122a1",
   "metadata": {},
   "outputs": [],
   "source": [
    "model = tf.keras.models.Sequential([\n",
    "  tf.keras.layers.Flatten(),\n",
    "  tf.keras.layers.Dense(1, activation='sigmoid'),\n",
    "])\n",
    "\n",
    "model.compile(optimizer='adam', loss='binary_crossentropy', metrics=['accuracy',tf.keras.metrics.AUC(name='auc')])\n",
    "\n",
    "#model.summary()\n"
   ]
  },
  {
   "cell_type": "code",
   "execution_count": null,
   "id": "61c0e841-614e-4111-9388-d29b02b447b5",
   "metadata": {},
   "outputs": [],
   "source": [
    "model.fit(x_raw_train, np.array(labels_train), epochs=50)"
   ]
  },
  {
   "cell_type": "markdown",
   "id": "fa3fa42a-894a-4671-8483-77a48f55e673",
   "metadata": {},
   "source": [
    "This model does not seem to learn much, which was to be expected from such a stupid model."
   ]
  },
  {
   "cell_type": "code",
   "execution_count": null,
   "id": "4aa3858f-8c9c-4f5c-840f-46846d90b4ea",
   "metadata": {},
   "outputs": [],
   "source": [
    "type(labels_train)"
   ]
  },
  {
   "cell_type": "code",
   "execution_count": null,
   "id": "6f8017ce-eedd-4a2b-9bef-27e51899439c",
   "metadata": {},
   "outputs": [],
   "source": [
    "model_multilayer = tf.keras.models.Sequential([\n",
    "  tf.keras.layers.Flatten(),\n",
    "  tf.keras.layers.Dense(10, activation='relu'),  \n",
    "  tf.keras.layers.Dense(10, activation='relu'),    \n",
    "  tf.keras.layers.Dense(1, activation='sigmoid'),\n",
    "])\n",
    "\n",
    "model_multilayer.compile(optimizer='adam', loss='binary_crossentropy', metrics=['accuracy',tf.keras.metrics.AUC(name='auc')])\n"
   ]
  },
  {
   "cell_type": "code",
   "execution_count": null,
   "id": "274ec2e9-10d5-4407-b0b6-ea598d94a7d2",
   "metadata": {},
   "outputs": [],
   "source": [
    "model_multilayer.build()\n",
    "model_multilayer.summary()"
   ]
  },
  {
   "cell_type": "code",
   "execution_count": null,
   "id": "6fb47a2e-a63d-4113-bb43-6849121ac9fa",
   "metadata": {},
   "outputs": [],
   "source": [
    "model_multilayer.fit(x_raw_train, np.array(labels_train), epochs=50)"
   ]
  },
  {
   "cell_type": "markdown",
   "id": "a4deb24f-1404-4ec6-873a-5b54222a226c",
   "metadata": {},
   "source": [
    "Even simplistic feeding all sensor outputs to multilayer net works surprisingly well "
   ]
  },
  {
   "cell_type": "code",
   "execution_count": 6,
   "id": "edbb746d-2255-402a-ad5f-62772dfea2ec",
   "metadata": {},
   "outputs": [
    {
     "name": "stdout",
     "output_type": "stream",
     "text": [
      "Epoch 1/50\n",
      "569/569 [==============================] - 2s 2ms/step - loss: 0.6955 - accuracy: 0.5143 - auc: 0.5241 - val_loss: 0.6881 - val_accuracy: 0.5333 - val_auc: 0.5522\n",
      "Epoch 2/50\n",
      "569/569 [==============================] - 1s 2ms/step - loss: 0.6900 - accuracy: 0.5249 - auc: 0.5390 - val_loss: 0.6882 - val_accuracy: 0.5383 - val_auc: 0.5598\n",
      "Epoch 3/50\n",
      "569/569 [==============================] - 1s 2ms/step - loss: 0.6873 - accuracy: 0.5351 - auc: 0.5539 - val_loss: 0.6870 - val_accuracy: 0.5425 - val_auc: 0.5624\n",
      "Epoch 4/50\n",
      "569/569 [==============================] - 1s 2ms/step - loss: 0.6847 - accuracy: 0.5479 - auc: 0.5699 - val_loss: 0.6869 - val_accuracy: 0.5404 - val_auc: 0.5603\n",
      "Epoch 5/50\n",
      "569/569 [==============================] - 1s 2ms/step - loss: 0.6837 - accuracy: 0.5455 - auc: 0.5733 - val_loss: 0.6881 - val_accuracy: 0.5386 - val_auc: 0.5576\n",
      "Epoch 6/50\n",
      "569/569 [==============================] - 1s 2ms/step - loss: 0.6797 - accuracy: 0.5462 - auc: 0.5832 - val_loss: 0.6877 - val_accuracy: 0.5405 - val_auc: 0.5583\n",
      "Epoch 7/50\n",
      "569/569 [==============================] - 1s 2ms/step - loss: 0.6775 - accuracy: 0.5508 - auc: 0.5895 - val_loss: 0.6871 - val_accuracy: 0.5408 - val_auc: 0.5627\n",
      "Epoch 8/50\n",
      "569/569 [==============================] - 1s 2ms/step - loss: 0.6747 - accuracy: 0.5577 - auc: 0.5964 - val_loss: 0.6868 - val_accuracy: 0.5433 - val_auc: 0.5612\n",
      "Epoch 9/50\n",
      "569/569 [==============================] - 1s 2ms/step - loss: 0.6717 - accuracy: 0.5622 - auc: 0.6071 - val_loss: 0.6869 - val_accuracy: 0.5352 - val_auc: 0.5592\n",
      "Epoch 10/50\n",
      "569/569 [==============================] - 1s 2ms/step - loss: 0.6690 - accuracy: 0.5626 - auc: 0.6136 - val_loss: 0.6867 - val_accuracy: 0.5390 - val_auc: 0.5625\n",
      "Epoch 11/50\n",
      "569/569 [==============================] - 1s 2ms/step - loss: 0.6680 - accuracy: 0.5695 - auc: 0.6174 - val_loss: 0.6866 - val_accuracy: 0.5474 - val_auc: 0.5653\n",
      "Epoch 12/50\n",
      "569/569 [==============================] - 1s 2ms/step - loss: 0.6648 - accuracy: 0.5789 - auc: 0.6222 - val_loss: 0.6873 - val_accuracy: 0.5464 - val_auc: 0.5641\n",
      "Epoch 13/50\n",
      "569/569 [==============================] - 1s 1ms/step - loss: 0.6593 - accuracy: 0.5827 - auc: 0.6307 - val_loss: 0.6879 - val_accuracy: 0.5492 - val_auc: 0.5669\n",
      "Epoch 14/50\n",
      "569/569 [==============================] - 1s 1ms/step - loss: 0.6592 - accuracy: 0.5855 - auc: 0.6364 - val_loss: 0.6883 - val_accuracy: 0.5478 - val_auc: 0.5671\n",
      "Epoch 15/50\n",
      "569/569 [==============================] - 1s 1ms/step - loss: 0.6563 - accuracy: 0.5889 - auc: 0.6393 - val_loss: 0.6895 - val_accuracy: 0.5456 - val_auc: 0.5669\n",
      "Epoch 16/50\n",
      "569/569 [==============================] - 1s 1ms/step - loss: 0.6535 - accuracy: 0.5959 - auc: 0.6479 - val_loss: 0.6902 - val_accuracy: 0.5429 - val_auc: 0.5661\n",
      "Epoch 17/50\n",
      "569/569 [==============================] - 1s 1ms/step - loss: 0.6520 - accuracy: 0.5965 - auc: 0.6496 - val_loss: 0.6897 - val_accuracy: 0.5458 - val_auc: 0.5661\n",
      "Epoch 18/50\n",
      "569/569 [==============================] - 1s 1ms/step - loss: 0.6474 - accuracy: 0.5988 - auc: 0.6546 - val_loss: 0.6908 - val_accuracy: 0.5524 - val_auc: 0.5710\n",
      "Epoch 19/50\n",
      "569/569 [==============================] - 1s 1ms/step - loss: 0.6452 - accuracy: 0.6055 - auc: 0.6604 - val_loss: 0.6928 - val_accuracy: 0.5473 - val_auc: 0.5658\n",
      "Epoch 20/50\n",
      "569/569 [==============================] - 1s 1ms/step - loss: 0.6428 - accuracy: 0.6113 - auc: 0.6675 - val_loss: 0.6943 - val_accuracy: 0.5517 - val_auc: 0.5673\n",
      "Epoch 21/50\n",
      "569/569 [==============================] - 1s 1ms/step - loss: 0.6437 - accuracy: 0.6041 - auc: 0.6608 - val_loss: 0.6945 - val_accuracy: 0.5483 - val_auc: 0.5664\n",
      "Epoch 22/50\n",
      "569/569 [==============================] - 1s 1ms/step - loss: 0.6382 - accuracy: 0.6113 - auc: 0.6655 - val_loss: 0.6965 - val_accuracy: 0.5526 - val_auc: 0.5695\n",
      "Epoch 23/50\n",
      "569/569 [==============================] - 1s 1ms/step - loss: 0.6365 - accuracy: 0.6088 - auc: 0.6658 - val_loss: 0.6968 - val_accuracy: 0.5520 - val_auc: 0.5682\n",
      "Epoch 24/50\n",
      "569/569 [==============================] - 1s 1ms/step - loss: 0.6376 - accuracy: 0.6065 - auc: 0.6639 - val_loss: 0.6967 - val_accuracy: 0.5549 - val_auc: 0.5700\n",
      "Epoch 25/50\n",
      "569/569 [==============================] - 1s 1ms/step - loss: 0.6346 - accuracy: 0.6122 - auc: 0.6726 - val_loss: 0.6997 - val_accuracy: 0.5473 - val_auc: 0.5667\n",
      "Epoch 26/50\n",
      "569/569 [==============================] - 1s 1ms/step - loss: 0.6319 - accuracy: 0.6105 - auc: 0.6691 - val_loss: 0.7009 - val_accuracy: 0.5455 - val_auc: 0.5647\n",
      "Epoch 27/50\n",
      "569/569 [==============================] - 1s 1ms/step - loss: 0.6290 - accuracy: 0.6124 - auc: 0.6748 - val_loss: 0.7051 - val_accuracy: 0.5411 - val_auc: 0.5628\n",
      "Epoch 28/50\n",
      "569/569 [==============================] - 1s 1ms/step - loss: 0.6242 - accuracy: 0.6178 - auc: 0.6820 - val_loss: 0.7084 - val_accuracy: 0.5497 - val_auc: 0.5652\n",
      "Epoch 29/50\n",
      "569/569 [==============================] - 1s 1ms/step - loss: 0.6237 - accuracy: 0.6192 - auc: 0.6797 - val_loss: 0.7091 - val_accuracy: 0.5427 - val_auc: 0.5657\n",
      "Epoch 30/50\n",
      "569/569 [==============================] - 1s 1ms/step - loss: 0.6243 - accuracy: 0.6170 - auc: 0.6809 - val_loss: 0.7103 - val_accuracy: 0.5436 - val_auc: 0.5633\n",
      "Epoch 31/50\n",
      "569/569 [==============================] - 1s 2ms/step - loss: 0.6211 - accuracy: 0.6198 - auc: 0.6837 - val_loss: 0.7104 - val_accuracy: 0.5463 - val_auc: 0.5650\n",
      "Epoch 32/50\n",
      "569/569 [==============================] - 1s 1ms/step - loss: 0.6193 - accuracy: 0.6202 - auc: 0.6854 - val_loss: 0.7179 - val_accuracy: 0.5427 - val_auc: 0.5634\n",
      "Epoch 33/50\n",
      "569/569 [==============================] - 1s 1ms/step - loss: 0.6174 - accuracy: 0.6189 - auc: 0.6868 - val_loss: 0.7163 - val_accuracy: 0.5415 - val_auc: 0.5642\n",
      "Epoch 34/50\n",
      "569/569 [==============================] - 1s 1ms/step - loss: 0.6137 - accuracy: 0.6229 - auc: 0.6902 - val_loss: 0.7183 - val_accuracy: 0.5461 - val_auc: 0.5651\n",
      "Epoch 35/50\n",
      "569/569 [==============================] - 1s 1ms/step - loss: 0.6160 - accuracy: 0.6205 - auc: 0.6861 - val_loss: 0.7170 - val_accuracy: 0.5464 - val_auc: 0.5621\n",
      "Epoch 36/50\n",
      "569/569 [==============================] - 1s 1ms/step - loss: 0.6132 - accuracy: 0.6233 - auc: 0.6900 - val_loss: 0.7209 - val_accuracy: 0.5443 - val_auc: 0.5618\n",
      "Epoch 37/50\n",
      "569/569 [==============================] - 1s 1ms/step - loss: 0.6110 - accuracy: 0.6236 - auc: 0.6920 - val_loss: 0.7257 - val_accuracy: 0.5499 - val_auc: 0.5642\n",
      "Epoch 38/50\n",
      "569/569 [==============================] - 1s 1ms/step - loss: 0.6132 - accuracy: 0.6236 - auc: 0.6929 - val_loss: 0.7268 - val_accuracy: 0.5467 - val_auc: 0.5636\n",
      "Epoch 39/50\n",
      "569/569 [==============================] - 1s 1ms/step - loss: 0.6083 - accuracy: 0.6257 - auc: 0.6934 - val_loss: 0.7257 - val_accuracy: 0.5479 - val_auc: 0.5656\n",
      "Epoch 40/50\n",
      "569/569 [==============================] - 1s 1ms/step - loss: 0.6056 - accuracy: 0.6245 - auc: 0.6928 - val_loss: 0.7367 - val_accuracy: 0.5459 - val_auc: 0.5621\n",
      "Epoch 41/50\n",
      "569/569 [==============================] - 1s 1ms/step - loss: 0.6070 - accuracy: 0.6244 - auc: 0.6909 - val_loss: 0.7272 - val_accuracy: 0.5463 - val_auc: 0.5652\n",
      "Epoch 42/50\n",
      "569/569 [==============================] - 1s 1ms/step - loss: 0.6023 - accuracy: 0.6266 - auc: 0.6980 - val_loss: 0.7378 - val_accuracy: 0.5522 - val_auc: 0.5667\n",
      "Epoch 43/50\n",
      "569/569 [==============================] - 1s 1ms/step - loss: 0.6046 - accuracy: 0.6252 - auc: 0.6944 - val_loss: 0.7337 - val_accuracy: 0.5492 - val_auc: 0.5674\n",
      "Epoch 44/50\n",
      "569/569 [==============================] - 1s 1ms/step - loss: 0.6011 - accuracy: 0.6267 - auc: 0.6970 - val_loss: 0.7448 - val_accuracy: 0.5499 - val_auc: 0.5651\n",
      "Epoch 45/50\n",
      "569/569 [==============================] - 1s 1ms/step - loss: 0.6014 - accuracy: 0.6322 - auc: 0.7026 - val_loss: 0.7452 - val_accuracy: 0.5446 - val_auc: 0.5600\n",
      "Epoch 46/50\n",
      "569/569 [==============================] - 1s 1ms/step - loss: 0.5949 - accuracy: 0.6294 - auc: 0.7041 - val_loss: 0.7504 - val_accuracy: 0.5419 - val_auc: 0.5603\n",
      "Epoch 47/50\n",
      "569/569 [==============================] - 1s 2ms/step - loss: 0.5991 - accuracy: 0.6260 - auc: 0.7002 - val_loss: 0.7498 - val_accuracy: 0.5411 - val_auc: 0.5587\n",
      "Epoch 48/50\n",
      "569/569 [==============================] - 1s 1ms/step - loss: 0.5946 - accuracy: 0.6288 - auc: 0.7021 - val_loss: 0.7542 - val_accuracy: 0.5460 - val_auc: 0.5618\n",
      "Epoch 49/50\n",
      "569/569 [==============================] - 1s 2ms/step - loss: 0.5960 - accuracy: 0.6280 - auc: 0.7040 - val_loss: 0.7588 - val_accuracy: 0.5464 - val_auc: 0.5622\n",
      "Epoch 50/50\n",
      "569/569 [==============================] - 1s 1ms/step - loss: 0.5953 - accuracy: 0.6300 - auc: 0.7030 - val_loss: 0.7597 - val_accuracy: 0.5451 - val_auc: 0.5631\n"
     ]
    },
    {
     "data": {
      "text/plain": [
       "<keras.callbacks.History at 0x1edb5ea2950>"
      ]
     },
     "execution_count": 6,
     "metadata": {},
     "output_type": "execute_result"
    }
   ],
   "source": [
    "# does clipping and scaling the input data help?\n",
    "\n",
    "#yes, it seems to help some\n",
    "\n",
    "model_multilayer_clip = tf.keras.models.Sequential([\n",
    "  tf.keras.layers.Flatten(),\n",
    "  tf.keras.layers.Dense(10, activation='relu'),  \n",
    "  tf.keras.layers.Dropout(0.5),    \n",
    "  tf.keras.layers.Dense(10, activation='relu'),    \n",
    "  tf.keras.layers.Dropout(0.5),      \n",
    "  tf.keras.layers.Dense(1, activation='sigmoid'),\n",
    "])\n",
    "\n",
    "model_multilayer_clip.compile(optimizer='adam', loss='binary_crossentropy', metrics=['accuracy',tf.keras.metrics.AUC(name='auc')])\n",
    "\n",
    "\n",
    "model_multilayer_clip.fit(x_raw_trainval, np.array(labels_trainval), validation_split=0.3, epochs=50)"
   ]
  },
  {
   "cell_type": "code",
   "execution_count": 7,
   "id": "72d0c0dd-d8a9-4b6a-a944-b3883865070d",
   "metadata": {},
   "outputs": [],
   "source": [
    "pred = model_multilayer_clip.predict(util.preprocess_sensor_data(x_raw_test))"
   ]
  },
  {
   "cell_type": "code",
   "execution_count": 8,
   "id": "5a20d2ed-a7d1-41e4-86ab-a675e6bfb6aa",
   "metadata": {},
   "outputs": [
    {
     "data": {
      "text/plain": [
       "(12218, 1)"
      ]
     },
     "execution_count": 8,
     "metadata": {},
     "output_type": "execute_result"
    }
   ],
   "source": [
    "pred.shape"
   ]
  },
  {
   "cell_type": "code",
   "execution_count": 11,
   "id": "a6211e0e-d2f8-467d-ab9b-845ffd93dd3f",
   "metadata": {},
   "outputs": [
    {
     "data": {
      "text/plain": [
       "array([0.48586679], dtype=float32)"
      ]
     },
     "execution_count": 11,
     "metadata": {},
     "output_type": "execute_result"
    }
   ],
   "source": [
    "np.unique(pred)"
   ]
  },
  {
   "cell_type": "code",
   "execution_count": null,
   "id": "0650b690-c1fb-4375-b695-3ea42604621d",
   "metadata": {},
   "outputs": [],
   "source": [
    "util.generate_submission(pred, sequence_ids_test, 'raw-clip')"
   ]
  },
  {
   "cell_type": "code",
   "execution_count": null,
   "id": "fd2ae0d1-3bce-4049-86d5-1bf05faced38",
   "metadata": {},
   "outputs": [],
   "source": []
  }
 ],
 "metadata": {
  "kernelspec": {
   "display_name": "tps-env",
   "language": "python",
   "name": "tps-env"
  },
  "language_info": {
   "codemirror_mode": {
    "name": "ipython",
    "version": 3
   },
   "file_extension": ".py",
   "mimetype": "text/x-python",
   "name": "python",
   "nbconvert_exporter": "python",
   "pygments_lexer": "ipython3",
   "version": "3.10.4"
  }
 },
 "nbformat": 4,
 "nbformat_minor": 5
}
