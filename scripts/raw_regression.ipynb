{
 "cells": [
  {
   "cell_type": "code",
   "execution_count": 1,
   "id": "530b30e9-93df-4ea3-bf8e-c55b67cfcbe9",
   "metadata": {},
   "outputs": [],
   "source": [
    "from src import util\n",
    "import tensorflow as tf\n",
    "import numpy as np"
   ]
  },
  {
   "cell_type": "code",
   "execution_count": 2,
   "id": "421e2d25-6ca6-42b8-aaf0-4c0f44991d5f",
   "metadata": {},
   "outputs": [],
   "source": [
    "%load_ext autoreload\n",
    "%autoreload 2"
   ]
  },
  {
   "cell_type": "code",
   "execution_count": 3,
   "id": "3aa809a9-224d-4813-93ff-bd173eaac9b4",
   "metadata": {},
   "outputs": [
    {
     "name": "stdout",
     "output_type": "stream",
     "text": [
      "(25968, 13, 60) 25968\n",
      "(12218, 13, 60) 12218\n"
     ]
    }
   ],
   "source": [
    "sensor_data_trainval, sequence_ids_trainval, labels_trainval = util.ingest_sensor_data('train.csv', 'train_labels.csv')\n",
    "sensor_data_test, sequence_ids_test, _ = util.ingest_sensor_data('test.csv')\n",
    "\n",
    "sensor_data_train, sequence_ids_train, labels_train, sensor_data_val, sequence_ids_val, labels_val = util.validation_split(training_fraction=0.7, sensor_data=sensor_data_trainval, sequence_ids=sequence_ids_trainval, labels=labels_trainval)"
   ]
  },
  {
   "cell_type": "code",
   "execution_count": 10,
   "id": "fbe3ca86-f9c3-4d7f-858e-8245ae41e19a",
   "metadata": {},
   "outputs": [],
   "source": [
    "n_train=sensor_data_train.shape[0]\n",
    "n_val=sensor_data_val.shape[0]\n",
    "n_trainval=sensor_data_trainval.shape[0]\n",
    "n_test=sensor_data_test.shape[0]\n",
    "x_raw_train = util.preprocess_sensor_data(sensor_data_train.reshape((n_train,-1)))\n",
    "x_raw_val = util.preprocess_sensor_data(sensor_data_val.reshape((n_val,-1)))\n",
    "x_raw_trainval = util.preprocess_sensor_data(sensor_data_trainval.reshape((n_trainval,-1)))\n",
    "x_raw_test = util.preprocess_sensor_data(sensor_data_test.reshape((n_test,-1)))\n",
    "\n"
   ]
  },
  {
   "cell_type": "code",
   "execution_count": 5,
   "id": "f8cb64e6-52d7-4443-8b66-b8aa3e970eb8",
   "metadata": {},
   "outputs": [
    {
     "data": {
      "text/plain": [
       "(18177, 780)"
      ]
     },
     "execution_count": 5,
     "metadata": {},
     "output_type": "execute_result"
    }
   ],
   "source": [
    "x_raw_train.shape"
   ]
  },
  {
   "cell_type": "code",
   "execution_count": null,
   "id": "a4aff174-23b2-4e45-b3aa-385bc53d8ea9",
   "metadata": {},
   "outputs": [],
   "source": [
    "tf.__version__\n"
   ]
  },
  {
   "cell_type": "code",
   "execution_count": null,
   "id": "f02e7c9f-8da3-47e1-b553-4ff91a9122a1",
   "metadata": {},
   "outputs": [],
   "source": [
    "model = tf.keras.models.Sequential([\n",
    "  tf.keras.layers.Flatten(),\n",
    "  tf.keras.layers.Dense(1, activation='sigmoid'),\n",
    "])\n",
    "\n",
    "model.compile(optimizer='adam', loss='binary_crossentropy', metrics=['accuracy',tf.keras.metrics.AUC(name='auc')])\n",
    "\n",
    "#model.summary()\n"
   ]
  },
  {
   "cell_type": "code",
   "execution_count": null,
   "id": "61c0e841-614e-4111-9388-d29b02b447b5",
   "metadata": {},
   "outputs": [],
   "source": [
    "model.fit(x_raw_train, np.array(labels_train), epochs=50)"
   ]
  },
  {
   "cell_type": "markdown",
   "id": "fa3fa42a-894a-4671-8483-77a48f55e673",
   "metadata": {},
   "source": [
    "This model does not seem to learn much, which was to be expected from such a stupid model."
   ]
  },
  {
   "cell_type": "code",
   "execution_count": null,
   "id": "4aa3858f-8c9c-4f5c-840f-46846d90b4ea",
   "metadata": {},
   "outputs": [],
   "source": [
    "type(labels_train)"
   ]
  },
  {
   "cell_type": "code",
   "execution_count": null,
   "id": "6f8017ce-eedd-4a2b-9bef-27e51899439c",
   "metadata": {},
   "outputs": [],
   "source": [
    "model_multilayer = tf.keras.models.Sequential([\n",
    "  tf.keras.layers.Flatten(),\n",
    "  tf.keras.layers.Dense(10, activation='relu'),  \n",
    "  tf.keras.layers.Dense(10, activation='relu'),    \n",
    "  tf.keras.layers.Dense(1, activation='sigmoid'),\n",
    "])\n",
    "\n",
    "model_multilayer.compile(optimizer='adam', loss='binary_crossentropy', metrics=['accuracy',tf.keras.metrics.AUC(name='auc')])\n"
   ]
  },
  {
   "cell_type": "code",
   "execution_count": null,
   "id": "274ec2e9-10d5-4407-b0b6-ea598d94a7d2",
   "metadata": {},
   "outputs": [],
   "source": [
    "model_multilayer.build()\n",
    "model_multilayer.summary()"
   ]
  },
  {
   "cell_type": "code",
   "execution_count": null,
   "id": "6fb47a2e-a63d-4113-bb43-6849121ac9fa",
   "metadata": {},
   "outputs": [],
   "source": [
    "model_multilayer.fit(x_raw_train, np.array(labels_train), epochs=50)"
   ]
  },
  {
   "cell_type": "markdown",
   "id": "a4deb24f-1404-4ec6-873a-5b54222a226c",
   "metadata": {},
   "source": [
    "Even simplistic feeding all sensor outputs to multilayer net works surprisingly well "
   ]
  },
  {
   "cell_type": "code",
   "execution_count": 12,
   "id": "edbb746d-2255-402a-ad5f-62772dfea2ec",
   "metadata": {},
   "outputs": [
    {
     "name": "stdout",
     "output_type": "stream",
     "text": [
      "Epoch 1/50\n",
      "569/569 [==============================] - 7s 12ms/step - loss: 0.6959 - accuracy: 0.5115 - auc: 0.5116 - val_loss: 0.6921 - val_accuracy: 0.5189 - val_auc: 0.5192\n",
      "Epoch 2/50\n",
      "569/569 [==============================] - 6s 11ms/step - loss: 0.6901 - accuracy: 0.5218 - auc: 0.5324 - val_loss: 0.6887 - val_accuracy: 0.5384 - val_auc: 0.5463\n",
      "Epoch 3/50\n",
      "569/569 [==============================] - 6s 11ms/step - loss: 0.6876 - accuracy: 0.5323 - auc: 0.5413 - val_loss: 0.6892 - val_accuracy: 0.5355 - val_auc: 0.5491\n",
      "Epoch 4/50\n",
      "569/569 [==============================] - 6s 11ms/step - loss: 0.6855 - accuracy: 0.5374 - auc: 0.5576 - val_loss: 0.6880 - val_accuracy: 0.5392 - val_auc: 0.5494\n",
      "Epoch 5/50\n",
      "569/569 [==============================] - 6s 11ms/step - loss: 0.6828 - accuracy: 0.5418 - auc: 0.5645 - val_loss: 0.6882 - val_accuracy: 0.5410 - val_auc: 0.5530\n",
      "Epoch 6/50\n",
      "569/569 [==============================] - 6s 11ms/step - loss: 0.6827 - accuracy: 0.5465 - auc: 0.5646 - val_loss: 0.6871 - val_accuracy: 0.5464 - val_auc: 0.5587\n",
      "Epoch 7/50\n",
      "569/569 [==============================] - 6s 11ms/step - loss: 0.6810 - accuracy: 0.5463 - auc: 0.5723 - val_loss: 0.6883 - val_accuracy: 0.5415 - val_auc: 0.5541\n",
      "Epoch 8/50\n",
      "569/569 [==============================] - 6s 11ms/step - loss: 0.6790 - accuracy: 0.5552 - auc: 0.5819 - val_loss: 0.6867 - val_accuracy: 0.5438 - val_auc: 0.5589\n",
      "Epoch 9/50\n",
      "569/569 [==============================] - 6s 11ms/step - loss: 0.6757 - accuracy: 0.5582 - auc: 0.5930 - val_loss: 0.6879 - val_accuracy: 0.5366 - val_auc: 0.5535\n",
      "Epoch 10/50\n",
      "569/569 [==============================] - 6s 11ms/step - loss: 0.6744 - accuracy: 0.5583 - auc: 0.5953 - val_loss: 0.6876 - val_accuracy: 0.5379 - val_auc: 0.5549\n",
      "Epoch 11/50\n",
      "569/569 [==============================] - 7s 12ms/step - loss: 0.6717 - accuracy: 0.5676 - auc: 0.6002 - val_loss: 0.6886 - val_accuracy: 0.5454 - val_auc: 0.5594\n",
      "Epoch 12/50\n",
      "569/569 [==============================] - 6s 11ms/step - loss: 0.6669 - accuracy: 0.5719 - auc: 0.6125 - val_loss: 0.6875 - val_accuracy: 0.5537 - val_auc: 0.5685\n",
      "Epoch 13/50\n",
      "569/569 [==============================] - 6s 11ms/step - loss: 0.6662 - accuracy: 0.5748 - auc: 0.6159 - val_loss: 0.6871 - val_accuracy: 0.5479 - val_auc: 0.5671\n",
      "Epoch 14/50\n",
      "569/569 [==============================] - 7s 12ms/step - loss: 0.6637 - accuracy: 0.5733 - auc: 0.6170 - val_loss: 0.6873 - val_accuracy: 0.5506 - val_auc: 0.5681\n",
      "Epoch 15/50\n",
      "569/569 [==============================] - 6s 11ms/step - loss: 0.6621 - accuracy: 0.5759 - auc: 0.6221 - val_loss: 0.6882 - val_accuracy: 0.5461 - val_auc: 0.5636\n",
      "Epoch 16/50\n",
      "569/569 [==============================] - 6s 11ms/step - loss: 0.6584 - accuracy: 0.5822 - auc: 0.6330 - val_loss: 0.6884 - val_accuracy: 0.5518 - val_auc: 0.5666\n",
      "Epoch 17/50\n",
      "569/569 [==============================] - 6s 11ms/step - loss: 0.6583 - accuracy: 0.5811 - auc: 0.6317 - val_loss: 0.6896 - val_accuracy: 0.5468 - val_auc: 0.5627\n",
      "Epoch 18/50\n",
      "569/569 [==============================] - 7s 12ms/step - loss: 0.6557 - accuracy: 0.5794 - auc: 0.6335 - val_loss: 0.6892 - val_accuracy: 0.5518 - val_auc: 0.5675\n",
      "Epoch 19/50\n",
      "569/569 [==============================] - 7s 12ms/step - loss: 0.6571 - accuracy: 0.5883 - auc: 0.6385 - val_loss: 0.6900 - val_accuracy: 0.5549 - val_auc: 0.5682\n",
      "Epoch 20/50\n",
      "569/569 [==============================] - 7s 12ms/step - loss: 0.6523 - accuracy: 0.5873 - auc: 0.6414 - val_loss: 0.6918 - val_accuracy: 0.5488 - val_auc: 0.5652\n",
      "Epoch 21/50\n",
      "569/569 [==============================] - 7s 12ms/step - loss: 0.6504 - accuracy: 0.5912 - auc: 0.6450 - val_loss: 0.6907 - val_accuracy: 0.5547 - val_auc: 0.5689\n",
      "Epoch 22/50\n",
      "569/569 [==============================] - 6s 11ms/step - loss: 0.6485 - accuracy: 0.5946 - auc: 0.6515 - val_loss: 0.6926 - val_accuracy: 0.5547 - val_auc: 0.5712\n",
      "Epoch 23/50\n",
      "569/569 [==============================] - 6s 11ms/step - loss: 0.6458 - accuracy: 0.5977 - auc: 0.6553 - val_loss: 0.6948 - val_accuracy: 0.5547 - val_auc: 0.5707\n",
      "Epoch 24/50\n",
      "569/569 [==============================] - 6s 11ms/step - loss: 0.6463 - accuracy: 0.5937 - auc: 0.6525 - val_loss: 0.6951 - val_accuracy: 0.5560 - val_auc: 0.5696\n",
      "Epoch 25/50\n",
      "569/569 [==============================] - 7s 12ms/step - loss: 0.6409 - accuracy: 0.5977 - auc: 0.6581 - val_loss: 0.6963 - val_accuracy: 0.5560 - val_auc: 0.5712\n",
      "Epoch 26/50\n",
      "569/569 [==============================] - 6s 11ms/step - loss: 0.6383 - accuracy: 0.5976 - auc: 0.6584 - val_loss: 0.6987 - val_accuracy: 0.5547 - val_auc: 0.5687\n",
      "Epoch 27/50\n",
      "569/569 [==============================] - 6s 11ms/step - loss: 0.6415 - accuracy: 0.5984 - auc: 0.6604 - val_loss: 0.6970 - val_accuracy: 0.5553 - val_auc: 0.5712\n",
      "Epoch 28/50\n",
      "569/569 [==============================] - 6s 11ms/step - loss: 0.6364 - accuracy: 0.6033 - auc: 0.6682 - val_loss: 0.6998 - val_accuracy: 0.5538 - val_auc: 0.5687\n",
      "Epoch 29/50\n",
      "569/569 [==============================] - 6s 11ms/step - loss: 0.6364 - accuracy: 0.6070 - auc: 0.6709 - val_loss: 0.7019 - val_accuracy: 0.5538 - val_auc: 0.5702\n",
      "Epoch 30/50\n",
      "569/569 [==============================] - 6s 11ms/step - loss: 0.6324 - accuracy: 0.6099 - auc: 0.6719 - val_loss: 0.7040 - val_accuracy: 0.5542 - val_auc: 0.5697\n",
      "Epoch 31/50\n",
      "569/569 [==============================] - 6s 11ms/step - loss: 0.6307 - accuracy: 0.6044 - auc: 0.6744 - val_loss: 0.7060 - val_accuracy: 0.5503 - val_auc: 0.5651\n",
      "Epoch 32/50\n",
      "569/569 [==============================] - 6s 11ms/step - loss: 0.6270 - accuracy: 0.6101 - auc: 0.6771 - val_loss: 0.7080 - val_accuracy: 0.5533 - val_auc: 0.5674\n",
      "Epoch 33/50\n",
      "569/569 [==============================] - 6s 11ms/step - loss: 0.6272 - accuracy: 0.6100 - auc: 0.6748 - val_loss: 0.7103 - val_accuracy: 0.5504 - val_auc: 0.5666\n",
      "Epoch 34/50\n",
      "569/569 [==============================] - 6s 11ms/step - loss: 0.6289 - accuracy: 0.6094 - auc: 0.6770 - val_loss: 0.7094 - val_accuracy: 0.5506 - val_auc: 0.5664\n",
      "Epoch 35/50\n",
      "569/569 [==============================] - 6s 11ms/step - loss: 0.6226 - accuracy: 0.6192 - auc: 0.6880 - val_loss: 0.7135 - val_accuracy: 0.5458 - val_auc: 0.5646\n",
      "Epoch 36/50\n",
      "569/569 [==============================] - 6s 11ms/step - loss: 0.6239 - accuracy: 0.6136 - auc: 0.6801 - val_loss: 0.7141 - val_accuracy: 0.5538 - val_auc: 0.5708\n",
      "Epoch 37/50\n",
      "569/569 [==============================] - 6s 11ms/step - loss: 0.6246 - accuracy: 0.6098 - auc: 0.6800 - val_loss: 0.7145 - val_accuracy: 0.5565 - val_auc: 0.5702\n",
      "Epoch 38/50\n",
      "569/569 [==============================] - 7s 12ms/step - loss: 0.6239 - accuracy: 0.6141 - auc: 0.6834 - val_loss: 0.7151 - val_accuracy: 0.5500 - val_auc: 0.5687\n",
      "Epoch 39/50\n",
      "569/569 [==============================] - 7s 12ms/step - loss: 0.6186 - accuracy: 0.6187 - auc: 0.6879 - val_loss: 0.7166 - val_accuracy: 0.5499 - val_auc: 0.5684\n",
      "Epoch 40/50\n",
      "569/569 [==============================] - 7s 12ms/step - loss: 0.6192 - accuracy: 0.6140 - auc: 0.6861 - val_loss: 0.7234 - val_accuracy: 0.5508 - val_auc: 0.5651\n",
      "Epoch 41/50\n",
      "569/569 [==============================] - 7s 11ms/step - loss: 0.6167 - accuracy: 0.6190 - auc: 0.6901 - val_loss: 0.7228 - val_accuracy: 0.5540 - val_auc: 0.5719\n",
      "Epoch 42/50\n",
      "569/569 [==============================] - 7s 12ms/step - loss: 0.6160 - accuracy: 0.6137 - auc: 0.6873 - val_loss: 0.7254 - val_accuracy: 0.5615 - val_auc: 0.5728\n",
      "Epoch 43/50\n",
      "569/569 [==============================] - 6s 11ms/step - loss: 0.6133 - accuracy: 0.6161 - auc: 0.6928 - val_loss: 0.7253 - val_accuracy: 0.5496 - val_auc: 0.5653\n",
      "Epoch 44/50\n",
      "569/569 [==============================] - 6s 11ms/step - loss: 0.6129 - accuracy: 0.6224 - auc: 0.6948 - val_loss: 0.7260 - val_accuracy: 0.5538 - val_auc: 0.5720\n",
      "Epoch 45/50\n",
      "569/569 [==============================] - 6s 11ms/step - loss: 0.6129 - accuracy: 0.6224 - auc: 0.6962 - val_loss: 0.7272 - val_accuracy: 0.5556 - val_auc: 0.5699\n",
      "Epoch 46/50\n",
      "569/569 [==============================] - 6s 11ms/step - loss: 0.6121 - accuracy: 0.6230 - auc: 0.6934 - val_loss: 0.7254 - val_accuracy: 0.5544 - val_auc: 0.5679\n",
      "Epoch 47/50\n",
      "569/569 [==============================] - 6s 11ms/step - loss: 0.6112 - accuracy: 0.6316 - auc: 0.6956 - val_loss: 0.7351 - val_accuracy: 0.5527 - val_auc: 0.5680\n",
      "Epoch 48/50\n",
      "569/569 [==============================] - 6s 11ms/step - loss: 0.6059 - accuracy: 0.6330 - auc: 0.6977 - val_loss: 0.7388 - val_accuracy: 0.5520 - val_auc: 0.5645\n",
      "Epoch 49/50\n",
      "569/569 [==============================] - 6s 11ms/step - loss: 0.6043 - accuracy: 0.6362 - auc: 0.6988 - val_loss: 0.7443 - val_accuracy: 0.5533 - val_auc: 0.5677\n",
      "Epoch 50/50\n",
      "569/569 [==============================] - 6s 11ms/step - loss: 0.6041 - accuracy: 0.6368 - auc: 0.7017 - val_loss: 0.7454 - val_accuracy: 0.5487 - val_auc: 0.5657\n"
     ]
    },
    {
     "data": {
      "text/plain": [
       "<keras.callbacks.History at 0x25fb9376260>"
      ]
     },
     "execution_count": 12,
     "metadata": {},
     "output_type": "execute_result"
    }
   ],
   "source": [
    "# does clipping and scaling the input data help?\n",
    "\n",
    "#yes, it seems to help some\n",
    "\n",
    "model_multilayer_clip = tf.keras.models.Sequential([\n",
    "  tf.keras.layers.Flatten(),\n",
    "  tf.keras.layers.Dense(10, activation='relu'),  \n",
    "  tf.keras.layers.Dropout(0.5),    \n",
    "  tf.keras.layers.Dense(10, activation='relu'),    \n",
    "  tf.keras.layers.Dropout(0.5),      \n",
    "  tf.keras.layers.Dense(1, activation='sigmoid'),\n",
    "])\n",
    "\n",
    "model_multilayer_clip.compile(optimizer='adam', loss='binary_crossentropy', metrics=['accuracy',tf.keras.metrics.AUC(name='auc')])\n",
    "\n",
    "\n",
    "model_multilayer_clip.fit(x_raw_trainval, np.array(labels_trainval), validation_split=0.3, epochs=50)"
   ]
  },
  {
   "cell_type": "code",
   "execution_count": null,
   "id": "72d0c0dd-d8a9-4b6a-a944-b3883865070d",
   "metadata": {},
   "outputs": [],
   "source": [
    "pred = model_multilayer_clip.predict(util.preprocess_sensor_data(x_raw_test))"
   ]
  },
  {
   "cell_type": "code",
   "execution_count": null,
   "id": "5a20d2ed-a7d1-41e4-86ab-a675e6bfb6aa",
   "metadata": {},
   "outputs": [],
   "source": [
    "pred.shape"
   ]
  },
  {
   "cell_type": "code",
   "execution_count": null,
   "id": "a6211e0e-d2f8-467d-ab9b-845ffd93dd3f",
   "metadata": {},
   "outputs": [],
   "source": [
    "pred[:40]"
   ]
  },
  {
   "cell_type": "code",
   "execution_count": null,
   "id": "0650b690-c1fb-4375-b695-3ea42604621d",
   "metadata": {},
   "outputs": [],
   "source": [
    "util.generate_submission(pred, sequence_ids_test, 'raw-clip')"
   ]
  },
  {
   "cell_type": "code",
   "execution_count": null,
   "id": "fd2ae0d1-3bce-4049-86d5-1bf05faced38",
   "metadata": {},
   "outputs": [],
   "source": []
  }
 ],
 "metadata": {
  "kernelspec": {
   "display_name": "kaggle-tps-apr2022-env",
   "language": "python",
   "name": "kaggle-tps-apr2022-env"
  },
  "language_info": {
   "codemirror_mode": {
    "name": "ipython",
    "version": 3
   },
   "file_extension": ".py",
   "mimetype": "text/x-python",
   "name": "python",
   "nbconvert_exporter": "python",
   "pygments_lexer": "ipython3",
   "version": "3.10.4"
  }
 },
 "nbformat": 4,
 "nbformat_minor": 5
}
